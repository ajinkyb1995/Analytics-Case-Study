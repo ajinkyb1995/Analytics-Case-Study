{
  "cells": [
    {
      "cell_type": "markdown",
      "metadata": {
        "id": "view-in-github",
        "colab_type": "text"
      },
      "source": [
        "<a href=\"https://colab.research.google.com/github/ajinkyb1995/Analytics-Case-Study/blob/main/Set.ipynb\" target=\"_parent\"><img src=\"https://colab.research.google.com/assets/colab-badge.svg\" alt=\"Open In Colab\"/></a>"
      ]
    },
    {
      "cell_type": "markdown",
      "id": "18e1ea81",
      "metadata": {
        "id": "18e1ea81"
      },
      "source": [
        "#### Set"
      ]
    },
    {
      "cell_type": "code",
      "execution_count": null,
      "id": "bf302d18",
      "metadata": {
        "id": "bf302d18"
      },
      "outputs": [],
      "source": [
        "1. Mutable > changable\n",
        "2. Unordered > we can not use indexing and slicing\n",
        "3. Duplicates are not allowed\n",
        "4. Enclosed by {}\n",
        "5. Initilized with set()\n",
        "6. Sets items are comma seperated\n",
        "7. We can add only Immutable items in set data type"
      ]
    },
    {
      "cell_type": "code",
      "execution_count": null,
      "id": "82d94e66",
      "metadata": {
        "id": "82d94e66"
      },
      "outputs": [],
      "source": [
        "lst = []\n",
        "s1 = set()"
      ]
    },
    {
      "cell_type": "code",
      "execution_count": null,
      "id": "cd1ce142",
      "metadata": {
        "id": "cd1ce142",
        "outputId": "ddc12d1a-6efd-4c31-c4c8-26db9e870418"
      },
      "outputs": [
        {
          "name": "stdout",
          "output_type": "stream",
          "text": [
            "[2, 3, 4, 8, 1, 10, 2]\n"
          ]
        }
      ],
      "source": [
        "lst = [2,3,4,8,1,10,2]\n",
        "print(lst)"
      ]
    },
    {
      "cell_type": "code",
      "execution_count": null,
      "id": "bf90136b",
      "metadata": {
        "id": "bf90136b",
        "outputId": "7d3d3b52-fe44-4205-976c-4a5735d68899"
      },
      "outputs": [
        {
          "name": "stdout",
          "output_type": "stream",
          "text": [
            "{1, 2, 3, 4, 8, 10}\n"
          ]
        }
      ],
      "source": [
        "set1 = {2,3,4,8,1,10,2}\n",
        "print(set1)"
      ]
    },
    {
      "cell_type": "code",
      "execution_count": null,
      "id": "593a916a",
      "metadata": {
        "id": "593a916a",
        "outputId": "dbc54843-87e5-4c5d-9a73-6743a674eb9d"
      },
      "outputs": [
        {
          "data": {
            "text/plain": [
              "set"
            ]
          },
          "execution_count": 5,
          "metadata": {},
          "output_type": "execute_result"
        }
      ],
      "source": [
        "s1 = set()\n",
        "type(s1)"
      ]
    },
    {
      "cell_type": "code",
      "execution_count": null,
      "id": "efc998a8",
      "metadata": {
        "id": "efc998a8",
        "outputId": "e6603073-2770-4ea9-917e-310fced5fe6c"
      },
      "outputs": [
        {
          "data": {
            "text/plain": [
              "set"
            ]
          },
          "execution_count": 6,
          "metadata": {},
          "output_type": "execute_result"
        }
      ],
      "source": [
        "s1 = {1,2.3,(3,4,5,6),\"Python\"}\n",
        "type(s1)"
      ]
    },
    {
      "cell_type": "code",
      "execution_count": null,
      "id": "b58ba63a",
      "metadata": {
        "id": "b58ba63a",
        "outputId": "bcce9057-825b-40a0-d0be-5270aeafbee1"
      },
      "outputs": [
        {
          "data": {
            "text/plain": [
              "{(3, 4, 5, 6), 1, 2.3, 'Python'}"
            ]
          },
          "execution_count": 7,
          "metadata": {},
          "output_type": "execute_result"
        }
      ],
      "source": [
        "s1"
      ]
    },
    {
      "cell_type": "code",
      "execution_count": null,
      "id": "14b530a5",
      "metadata": {
        "id": "14b530a5",
        "outputId": "0d6a9a87-3eec-4d55-b82b-516012414363"
      },
      "outputs": [
        {
          "ename": "TypeError",
          "evalue": "unhashable type: 'list'",
          "output_type": "error",
          "traceback": [
            "\u001b[1;31m---------------------------------------------------------------------------\u001b[0m",
            "\u001b[1;31mTypeError\u001b[0m                                 Traceback (most recent call last)",
            "\u001b[1;32m~\\AppData\\Local\\Temp/ipykernel_4324/2759121011.py\u001b[0m in \u001b[0;36m<module>\u001b[1;34m\u001b[0m\n\u001b[1;32m----> 1\u001b[1;33m \u001b[0ms1\u001b[0m \u001b[1;33m=\u001b[0m \u001b[1;33m{\u001b[0m\u001b[1;36m1\u001b[0m\u001b[1;33m,\u001b[0m\u001b[1;36m2.3\u001b[0m\u001b[1;33m,\u001b[0m\u001b[1;33m(\u001b[0m\u001b[1;36m3\u001b[0m\u001b[1;33m,\u001b[0m\u001b[1;36m4\u001b[0m\u001b[1;33m,\u001b[0m\u001b[1;36m5\u001b[0m\u001b[1;33m,\u001b[0m\u001b[1;36m6\u001b[0m\u001b[1;33m)\u001b[0m\u001b[1;33m,\u001b[0m\u001b[1;34m\"Python\"\u001b[0m\u001b[1;33m,\u001b[0m\u001b[1;33m[\u001b[0m\u001b[1;36m3\u001b[0m\u001b[1;33m,\u001b[0m\u001b[1;36m4\u001b[0m\u001b[1;33m]\u001b[0m\u001b[1;33m}\u001b[0m\u001b[1;33m\u001b[0m\u001b[1;33m\u001b[0m\u001b[0m\n\u001b[0m\u001b[0;32m      2\u001b[0m \u001b[0mtype\u001b[0m\u001b[1;33m(\u001b[0m\u001b[0ms1\u001b[0m\u001b[1;33m)\u001b[0m\u001b[1;33m\u001b[0m\u001b[1;33m\u001b[0m\u001b[0m\n",
            "\u001b[1;31mTypeError\u001b[0m: unhashable type: 'list'"
          ]
        }
      ],
      "source": [
        "s1 = {1,2.3,(3,4,5,6),\"Python\",[3,4]} # bcoz of list\n",
        "type(s1)"
      ]
    },
    {
      "cell_type": "code",
      "execution_count": null,
      "id": "de2f99bd",
      "metadata": {
        "id": "de2f99bd",
        "outputId": "05f3e23b-4ab9-463e-c9f1-c4da3a2f298f"
      },
      "outputs": [
        {
          "name": "stdout",
          "output_type": "stream",
          "text": [
            "<class 'list'>\n",
            "<class 'set'>\n",
            "<class 'tuple'>\n",
            "<class 'int'>\n",
            "<class 'dict'>\n",
            "<class 'tuple'>\n",
            "<class 'str'>\n"
          ]
        }
      ],
      "source": [
        "a = [] # list\n",
        "print(type(a))\n",
        "b = set()\n",
        "print(type(b))\n",
        "c =()\n",
        "print(type(c))\n",
        "c1 =(2)\n",
        "print(type(c1))\n",
        "c2 = {} # dict {key:val}\n",
        "print(type(c2))\n",
        "c3 = tuple()\n",
        "print(type(c3))\n",
        "c4 = str()\n",
        "print(type(c4))"
      ]
    },
    {
      "cell_type": "markdown",
      "id": "e50d56b2",
      "metadata": {
        "id": "e50d56b2"
      },
      "source": [
        "#### Access of items"
      ]
    },
    {
      "cell_type": "code",
      "execution_count": null,
      "id": "bd1e81d0",
      "metadata": {
        "id": "bd1e81d0",
        "outputId": "5108916e-84cc-4506-8e04-406f0ff49746"
      },
      "outputs": [
        {
          "ename": "TypeError",
          "evalue": "'set' object is not subscriptable",
          "output_type": "error",
          "traceback": [
            "\u001b[1;31m---------------------------------------------------------------------------\u001b[0m",
            "\u001b[1;31mTypeError\u001b[0m                                 Traceback (most recent call last)",
            "\u001b[1;32m~\\AppData\\Local\\Temp/ipykernel_4324/158165747.py\u001b[0m in \u001b[0;36m<module>\u001b[1;34m\u001b[0m\n\u001b[0;32m      1\u001b[0m \u001b[0ms1\u001b[0m \u001b[1;33m=\u001b[0m \u001b[1;33m{\u001b[0m\u001b[1;36m2\u001b[0m\u001b[1;33m,\u001b[0m\u001b[1;36m3\u001b[0m\u001b[1;33m,\u001b[0m\u001b[1;36m4\u001b[0m\u001b[1;33m,\u001b[0m\u001b[1;36m6.7\u001b[0m\u001b[1;33m,\u001b[0m\u001b[1;36m8\u001b[0m\u001b[1;33m}\u001b[0m\u001b[1;33m\u001b[0m\u001b[1;33m\u001b[0m\u001b[0m\n\u001b[1;32m----> 2\u001b[1;33m \u001b[0ms1\u001b[0m\u001b[1;33m[\u001b[0m\u001b[1;36m0\u001b[0m\u001b[1;33m]\u001b[0m\u001b[1;33m\u001b[0m\u001b[1;33m\u001b[0m\u001b[0m\n\u001b[0m",
            "\u001b[1;31mTypeError\u001b[0m: 'set' object is not subscriptable"
          ]
        }
      ],
      "source": [
        "s1 = {2,3,4,6.7,8}\n",
        "s1[0]"
      ]
    },
    {
      "cell_type": "code",
      "execution_count": null,
      "id": "183c03e3",
      "metadata": {
        "id": "183c03e3",
        "outputId": "5dbdd434-4eec-4fd8-c890-7f634bd658bc"
      },
      "outputs": [
        {
          "ename": "TypeError",
          "evalue": "'set' object is not subscriptable",
          "output_type": "error",
          "traceback": [
            "\u001b[1;31m---------------------------------------------------------------------------\u001b[0m",
            "\u001b[1;31mTypeError\u001b[0m                                 Traceback (most recent call last)",
            "\u001b[1;32m~\\AppData\\Local\\Temp/ipykernel_4324/1557786359.py\u001b[0m in \u001b[0;36m<module>\u001b[1;34m\u001b[0m\n\u001b[0;32m      1\u001b[0m \u001b[0ms1\u001b[0m \u001b[1;33m=\u001b[0m \u001b[1;33m{\u001b[0m\u001b[1;36m2\u001b[0m\u001b[1;33m,\u001b[0m\u001b[1;36m3\u001b[0m\u001b[1;33m,\u001b[0m\u001b[1;36m4\u001b[0m\u001b[1;33m,\u001b[0m\u001b[1;36m6.7\u001b[0m\u001b[1;33m,\u001b[0m\u001b[1;36m8\u001b[0m\u001b[1;33m}\u001b[0m\u001b[1;33m\u001b[0m\u001b[1;33m\u001b[0m\u001b[0m\n\u001b[1;32m----> 2\u001b[1;33m \u001b[0ms1\u001b[0m\u001b[1;33m[\u001b[0m\u001b[1;36m0\u001b[0m\u001b[1;33m:\u001b[0m\u001b[1;36m3\u001b[0m\u001b[1;33m]\u001b[0m\u001b[1;33m\u001b[0m\u001b[1;33m\u001b[0m\u001b[0m\n\u001b[0m",
            "\u001b[1;31mTypeError\u001b[0m: 'set' object is not subscriptable"
          ]
        }
      ],
      "source": [
        "s1 = {2,3,4,6.7,8}\n",
        "s1[0:3]"
      ]
    },
    {
      "cell_type": "code",
      "execution_count": null,
      "id": "151d8623",
      "metadata": {
        "id": "151d8623",
        "outputId": "5bf16304-ca13-4dca-f762-02a9a8ba9509"
      },
      "outputs": [
        {
          "name": "stdout",
          "output_type": "stream",
          "text": [
            "1\n",
            "2\n",
            "3\n",
            "4\n",
            "6.7\n",
            "8\n"
          ]
        }
      ],
      "source": [
        "s1 = {2,3,4,6.7,8,3,1,3,4}\n",
        "for i in s1:\n",
        "    print(i)"
      ]
    },
    {
      "cell_type": "code",
      "execution_count": null,
      "id": "95324dd0",
      "metadata": {
        "id": "95324dd0",
        "outputId": "51c281fe-1dc7-45ce-a966-0bfddc38dd58"
      },
      "outputs": [
        {
          "name": "stdout",
          "output_type": "stream",
          "text": [
            "0 >>>>> 1\n",
            "1 >>>>> 2\n",
            "2 >>>>> 3\n",
            "3 >>>>> 4\n",
            "4 >>>>> 6.7\n",
            "5 >>>>> 8\n"
          ]
        }
      ],
      "source": [
        "s1 = {2,3,4,6.7,8,3,1,3,4}\n",
        "for i,val in enumerate(s1):\n",
        "    print(i,\">>>>>\",val)"
      ]
    },
    {
      "cell_type": "code",
      "execution_count": null,
      "id": "34602ebb",
      "metadata": {
        "id": "34602ebb",
        "outputId": "aafec8ef-4466-4994-9b83-3e7393d55b25"
      },
      "outputs": [
        {
          "data": {
            "text/plain": [
              "[4, 5, 7]"
            ]
          },
          "execution_count": 24,
          "metadata": {},
          "output_type": "execute_result"
        }
      ],
      "source": [
        "lst1 = [3,4,5,2,4,7]\n",
        "lst2 = [4,5,6,7,8,9] # [4,5,7]\n",
        "new_lst = []\n",
        "for i in lst1: # i=3\n",
        "    if i in lst2 and i not in new_lst:\n",
        "        new_lst.append(i)\n",
        "new_lst"
      ]
    },
    {
      "cell_type": "code",
      "execution_count": null,
      "id": "36e25dbd",
      "metadata": {
        "id": "36e25dbd",
        "outputId": "a48e8b29-c6f5-4d43-92e7-d8d8f2f10562"
      },
      "outputs": [
        {
          "data": {
            "text/plain": [
              "{4, 5, 7}"
            ]
          },
          "execution_count": 26,
          "metadata": {},
          "output_type": "execute_result"
        }
      ],
      "source": [
        "set(lst1).intersection(set(lst2))"
      ]
    },
    {
      "cell_type": "markdown",
      "id": "4b152ed6",
      "metadata": {
        "id": "4b152ed6"
      },
      "source": [
        "#### Set Function"
      ]
    },
    {
      "cell_type": "markdown",
      "id": "10c5ca9f",
      "metadata": {
        "id": "10c5ca9f"
      },
      "source": [
        "#### 1. add"
      ]
    },
    {
      "cell_type": "code",
      "execution_count": null,
      "id": "0362aff1",
      "metadata": {
        "id": "0362aff1"
      },
      "outputs": [],
      "source": [
        "used to add one item in set # immuatble\n",
        "Item will get added at random index"
      ]
    },
    {
      "cell_type": "code",
      "execution_count": null,
      "id": "813e49cb",
      "metadata": {
        "id": "813e49cb",
        "outputId": "1d803248-53ef-4de7-e56b-64bb71d6ec84"
      },
      "outputs": [
        {
          "data": {
            "text/plain": [
              "{2, 3, 10, 13, 14, 15, 3333, 5555}"
            ]
          },
          "execution_count": 28,
          "metadata": {},
          "output_type": "execute_result"
        }
      ],
      "source": [
        "s1 = {10,13,2,14,15,3}\n",
        "s1.add(5555)\n",
        "s1.add(3333)\n",
        "s1"
      ]
    },
    {
      "cell_type": "code",
      "execution_count": null,
      "id": "3f1c98da",
      "metadata": {
        "id": "3f1c98da",
        "outputId": "7a09ad11-f987-42cf-88fe-44f77e226fc9"
      },
      "outputs": [
        {
          "ename": "AttributeError",
          "evalue": "'set' object has no attribute 'append'",
          "output_type": "error",
          "traceback": [
            "\u001b[1;31m---------------------------------------------------------------------------\u001b[0m",
            "\u001b[1;31mAttributeError\u001b[0m                            Traceback (most recent call last)",
            "\u001b[1;32m~\\AppData\\Local\\Temp/ipykernel_4324/3880854867.py\u001b[0m in \u001b[0;36m<module>\u001b[1;34m\u001b[0m\n\u001b[1;32m----> 1\u001b[1;33m \u001b[0ms1\u001b[0m\u001b[1;33m.\u001b[0m\u001b[0mappend\u001b[0m\u001b[1;33m(\u001b[0m\u001b[1;36m4444\u001b[0m\u001b[1;33m)\u001b[0m\u001b[1;33m\u001b[0m\u001b[1;33m\u001b[0m\u001b[0m\n\u001b[0m\u001b[0;32m      2\u001b[0m \u001b[0ms1\u001b[0m\u001b[1;33m\u001b[0m\u001b[1;33m\u001b[0m\u001b[0m\n",
            "\u001b[1;31mAttributeError\u001b[0m: 'set' object has no attribute 'append'"
          ]
        }
      ],
      "source": [
        "s1.append(4444)\n",
        "s1"
      ]
    },
    {
      "cell_type": "markdown",
      "id": "c3162770",
      "metadata": {
        "id": "c3162770"
      },
      "source": [
        "#### 2. update()"
      ]
    },
    {
      "cell_type": "code",
      "execution_count": null,
      "id": "e92a9cf5",
      "metadata": {
        "id": "e92a9cf5"
      },
      "outputs": [],
      "source": [
        "used to join two sets"
      ]
    },
    {
      "cell_type": "code",
      "execution_count": null,
      "id": "41691367",
      "metadata": {
        "id": "41691367",
        "outputId": "a3dfab53-3715-4f81-fe12-32234ee7b874"
      },
      "outputs": [
        {
          "data": {
            "text/plain": [
              "[3, 4, 5, 2, 4, 7, 4, 5, 6, 7, 8, 9]"
            ]
          },
          "execution_count": 31,
          "metadata": {},
          "output_type": "execute_result"
        }
      ],
      "source": [
        "lst1 = [3,4,5,2,4,7]\n",
        "lst2 = [4,5,6,7,8,9]\n",
        "lst1.extend(lst2)\n",
        "lst1"
      ]
    },
    {
      "cell_type": "code",
      "execution_count": null,
      "id": "8eae6f52",
      "metadata": {
        "id": "8eae6f52",
        "outputId": "c00270c2-29a2-4618-d0c4-68209c6ff541"
      },
      "outputs": [
        {
          "name": "stdout",
          "output_type": "stream",
          "text": [
            "{2, 3, 4, 5, 6, 7, 8, 9}\n"
          ]
        }
      ],
      "source": [
        "s11 = {3,4,5,2,4,7}\n",
        "s12 = {4,5,6,7,8,9}\n",
        "s11.update(s12)\n",
        "print(s11)"
      ]
    },
    {
      "cell_type": "code",
      "execution_count": null,
      "id": "717ae544",
      "metadata": {
        "id": "717ae544",
        "outputId": "62afc477-44d6-46e0-b6fb-eccbafdf0188"
      },
      "outputs": [
        {
          "name": "stdout",
          "output_type": "stream",
          "text": [
            "{2, 3, 4, 5, 6, 7, 8, 9}\n"
          ]
        }
      ],
      "source": [
        "s11 = {3,4,5,2,4,7}\n",
        "lst1 = [4,5,6,7,8,9]\n",
        "s11.update(lst1)\n",
        "print(s11)"
      ]
    },
    {
      "cell_type": "code",
      "execution_count": null,
      "id": "33a88546",
      "metadata": {
        "id": "33a88546",
        "outputId": "11fba879-17db-4a24-8246-aee46d475c9a"
      },
      "outputs": [
        {
          "name": "stdout",
          "output_type": "stream",
          "text": [
            "{2, 3, 4, 5, 6, 7, 8, 9}\n"
          ]
        }
      ],
      "source": [
        "s11 = {3,4,5,2,4,7}\n",
        "tup11 = (4,5,6,7,8,9)\n",
        "s11.update(tup11) # 2nd item can be set or list, tuple\n",
        "print(s11)"
      ]
    },
    {
      "cell_type": "markdown",
      "id": "0fb0574e",
      "metadata": {
        "id": "0fb0574e"
      },
      "source": [
        "#### 3. Union"
      ]
    },
    {
      "cell_type": "code",
      "execution_count": null,
      "id": "9502a0e6",
      "metadata": {
        "id": "9502a0e6"
      },
      "outputs": [],
      "source": [
        "will get unique value"
      ]
    },
    {
      "cell_type": "code",
      "execution_count": null,
      "id": "aba96eb4",
      "metadata": {
        "id": "aba96eb4",
        "outputId": "5487b933-daeb-4f00-a0ea-4b247f302dd0"
      },
      "outputs": [
        {
          "data": {
            "text/plain": [
              "{2, 3, 4, 5, 6, 7, 8, 9}"
            ]
          },
          "execution_count": 35,
          "metadata": {},
          "output_type": "execute_result"
        }
      ],
      "source": [
        "s11 = {3,4,5,2,4,7}\n",
        "tup11 = (4,5,6,7,8,9)\n",
        "s11.union(tup11) # unique"
      ]
    },
    {
      "cell_type": "code",
      "execution_count": null,
      "id": "94b2a841",
      "metadata": {
        "id": "94b2a841",
        "outputId": "2942ada5-9235-4938-c79b-d777491ac9e8"
      },
      "outputs": [
        {
          "data": {
            "text/plain": [
              "{4, 5, 7}"
            ]
          },
          "execution_count": 36,
          "metadata": {},
          "output_type": "execute_result"
        }
      ],
      "source": [
        "s11 = {3,4,5,2,4,7}\n",
        "tup11 = (4,5,6,7,8,9)\n",
        "s11.intersection(tup11) # common"
      ]
    },
    {
      "cell_type": "code",
      "execution_count": null,
      "id": "12a0b36c",
      "metadata": {
        "id": "12a0b36c",
        "outputId": "31cbb33f-d591-447b-d796-684f343d8245"
      },
      "outputs": [
        {
          "data": {
            "text/plain": [
              "{2, 3, 4, 5, 6, 7, 8, 9, 17, 18}"
            ]
          },
          "execution_count": 37,
          "metadata": {},
          "output_type": "execute_result"
        }
      ],
      "source": [
        "s1 = {3,4,5,2,4,7}\n",
        "lst1 = [4,5,6,7,8,9]\n",
        "tup2 = (17,18)\n",
        "s1.union(lst1,tup2)"
      ]
    },
    {
      "cell_type": "markdown",
      "id": "2d1e22f7",
      "metadata": {
        "id": "2d1e22f7"
      },
      "source": [
        "### Delete items from set"
      ]
    },
    {
      "cell_type": "code",
      "execution_count": null,
      "id": "6f73d1f5",
      "metadata": {
        "id": "6f73d1f5"
      },
      "outputs": [],
      "source": [
        "1. remove\n",
        "2. pop\n",
        "3. clear\n",
        "4. discard()"
      ]
    },
    {
      "cell_type": "markdown",
      "id": "e0eddd15",
      "metadata": {
        "id": "e0eddd15"
      },
      "source": [
        "#### 1. remove()"
      ]
    },
    {
      "cell_type": "code",
      "execution_count": null,
      "id": "a4702c25",
      "metadata": {
        "id": "a4702c25",
        "outputId": "be974ef3-4f3f-4ba8-c8f8-f4ed486b03ae"
      },
      "outputs": [
        {
          "data": {
            "text/plain": [
              "{2, 3, 5}"
            ]
          },
          "execution_count": 38,
          "metadata": {},
          "output_type": "execute_result"
        }
      ],
      "source": [
        "s1 = {3,4,5,2}\n",
        "s1.remove(4)\n",
        "s1"
      ]
    },
    {
      "cell_type": "code",
      "execution_count": null,
      "id": "41c6cb22",
      "metadata": {
        "id": "41c6cb22",
        "outputId": "e01a57c4-c1d9-459b-8e0a-c5444990f8b8"
      },
      "outputs": [
        {
          "data": {
            "text/plain": [
              "{2, 3, 5}"
            ]
          },
          "execution_count": 39,
          "metadata": {},
          "output_type": "execute_result"
        }
      ],
      "source": [
        "s1 = {3,4,5,2,4}\n",
        "s1.remove(4)\n",
        "s1"
      ]
    },
    {
      "cell_type": "code",
      "execution_count": null,
      "id": "5398833b",
      "metadata": {
        "id": "5398833b",
        "outputId": "807afd74-8a47-4713-e776-563bdf3ba784"
      },
      "outputs": [
        {
          "ename": "KeyError",
          "evalue": "14",
          "output_type": "error",
          "traceback": [
            "\u001b[1;31m---------------------------------------------------------------------------\u001b[0m",
            "\u001b[1;31mKeyError\u001b[0m                                  Traceback (most recent call last)",
            "\u001b[1;32m~\\AppData\\Local\\Temp/ipykernel_4324/4153981432.py\u001b[0m in \u001b[0;36m<module>\u001b[1;34m\u001b[0m\n\u001b[0;32m      1\u001b[0m \u001b[0ms1\u001b[0m \u001b[1;33m=\u001b[0m \u001b[1;33m{\u001b[0m\u001b[1;36m3\u001b[0m\u001b[1;33m,\u001b[0m\u001b[1;36m4\u001b[0m\u001b[1;33m,\u001b[0m\u001b[1;36m5\u001b[0m\u001b[1;33m,\u001b[0m\u001b[1;36m2\u001b[0m\u001b[1;33m,\u001b[0m\u001b[1;36m4\u001b[0m\u001b[1;33m}\u001b[0m\u001b[1;33m\u001b[0m\u001b[1;33m\u001b[0m\u001b[0m\n\u001b[1;32m----> 2\u001b[1;33m \u001b[0ms1\u001b[0m\u001b[1;33m.\u001b[0m\u001b[0mremove\u001b[0m\u001b[1;33m(\u001b[0m\u001b[1;36m14\u001b[0m\u001b[1;33m)\u001b[0m\u001b[1;33m\u001b[0m\u001b[1;33m\u001b[0m\u001b[0m\n\u001b[0m\u001b[0;32m      3\u001b[0m \u001b[0ms1\u001b[0m\u001b[1;33m\u001b[0m\u001b[1;33m\u001b[0m\u001b[0m\n",
            "\u001b[1;31mKeyError\u001b[0m: 14"
          ]
        }
      ],
      "source": [
        "s1 = {3,4,5,2,4}\n",
        "s1.remove(14)\n",
        "s1"
      ]
    },
    {
      "cell_type": "markdown",
      "id": "4743861a",
      "metadata": {
        "id": "4743861a"
      },
      "source": [
        "#### 2) discard()"
      ]
    },
    {
      "cell_type": "code",
      "execution_count": null,
      "id": "7fb73773",
      "metadata": {
        "id": "7fb73773"
      },
      "outputs": [],
      "source": [
        "# no error , it item is not present in  set"
      ]
    },
    {
      "cell_type": "code",
      "execution_count": null,
      "id": "54ad1aee",
      "metadata": {
        "id": "54ad1aee",
        "outputId": "62e78b52-6bd9-435b-cc4f-0ab44f820ab4"
      },
      "outputs": [
        {
          "name": "stdout",
          "output_type": "stream",
          "text": [
            "Item is not present\n"
          ]
        }
      ],
      "source": [
        "s1 = {3,4,5,2,4}\n",
        "item = 14\n",
        "if item in s1:\n",
        "    print(\"Item is present\")\n",
        "    s1.remove(item)\n",
        "else:\n",
        "    print(\"Item is not present\")"
      ]
    },
    {
      "cell_type": "code",
      "execution_count": null,
      "id": "24ce901a",
      "metadata": {
        "id": "24ce901a",
        "outputId": "4275e4e1-7c5a-4e64-9b51-227ea3ba2653"
      },
      "outputs": [
        {
          "name": "stdout",
          "output_type": "stream",
          "text": [
            "Item is present and delted\n",
            "{2, 3, 5}\n"
          ]
        }
      ],
      "source": [
        "s1 = {3,4,5,2,4}\n",
        "item = 4\n",
        "if item in s1:\n",
        "    print(\"Item is present and delted\")\n",
        "    s1.remove(item)\n",
        "    print(s1)\n",
        "else:\n",
        "    print(\"Item is not present\")"
      ]
    },
    {
      "cell_type": "code",
      "execution_count": null,
      "id": "1ce98e15",
      "metadata": {
        "id": "1ce98e15",
        "outputId": "1adb5bfe-58c4-4c81-aef3-844a0c440e7f"
      },
      "outputs": [
        {
          "data": {
            "text/plain": [
              "{2, 3, 4, 5}"
            ]
          },
          "execution_count": 44,
          "metadata": {},
          "output_type": "execute_result"
        }
      ],
      "source": [
        "s1 = {3,4,5,2,4}\n",
        "s1.discard(14)\n",
        "s1"
      ]
    },
    {
      "cell_type": "code",
      "execution_count": null,
      "id": "fa961ab4",
      "metadata": {
        "id": "fa961ab4",
        "outputId": "edd46927-08df-4c91-fd19-4f82b14ef39c"
      },
      "outputs": [
        {
          "data": {
            "text/plain": [
              "{'Delhi', 'Mumbai', 'Pune'}"
            ]
          },
          "execution_count": 45,
          "metadata": {},
          "output_type": "execute_result"
        }
      ],
      "source": [
        "s1 = {\"Phy\",\"Mumbai\",\"Delhi\",\"Pune\"}\n",
        "s1.discard(\"Phy\")\n",
        "s1"
      ]
    },
    {
      "cell_type": "code",
      "execution_count": null,
      "id": "9c783554",
      "metadata": {
        "id": "9c783554",
        "outputId": "8beb941e-caf1-4e60-c2fa-4c365e0a6777"
      },
      "outputs": [
        {
          "data": {
            "text/plain": [
              "{'Delhi', 'Mumbai', 'Phy', 'Pune'}"
            ]
          },
          "execution_count": 46,
          "metadata": {},
          "output_type": "execute_result"
        }
      ],
      "source": [
        "s1 = {\"Phy\",\"Mumbai\",\"Delhi\",\"Pune\"}\n",
        "s1.discard(\"Physics\")\n",
        "s1"
      ]
    },
    {
      "cell_type": "markdown",
      "id": "946a0676",
      "metadata": {
        "id": "946a0676"
      },
      "source": [
        "#### 3. pop"
      ]
    },
    {
      "cell_type": "code",
      "execution_count": null,
      "id": "92ad72a4",
      "metadata": {
        "id": "92ad72a4"
      },
      "outputs": [],
      "source": [
        "It will delete random item from set\n",
        "> Note: we can not allow to pass index number bcoz of unordered"
      ]
    },
    {
      "cell_type": "code",
      "execution_count": null,
      "id": "7d1d50fc",
      "metadata": {
        "id": "7d1d50fc",
        "outputId": "d2ba900e-259f-48c3-f7e9-10e53a14cf3f"
      },
      "outputs": [
        {
          "data": {
            "text/plain": [
              "{'Mumbai', 'Phy', 'Pune'}"
            ]
          },
          "execution_count": 47,
          "metadata": {},
          "output_type": "execute_result"
        }
      ],
      "source": [
        "s1 = {\"Phy\",\"Mumbai\",\"Delhi\",\"Pune\"}\n",
        "s1.pop()\n",
        "s1"
      ]
    },
    {
      "cell_type": "code",
      "execution_count": null,
      "id": "e3984f6a",
      "metadata": {
        "id": "e3984f6a",
        "outputId": "ff072d66-74aa-4f04-c9e8-a40d383591b5"
      },
      "outputs": [
        {
          "ename": "TypeError",
          "evalue": "set.pop() takes no arguments (1 given)",
          "output_type": "error",
          "traceback": [
            "\u001b[1;31m---------------------------------------------------------------------------\u001b[0m",
            "\u001b[1;31mTypeError\u001b[0m                                 Traceback (most recent call last)",
            "\u001b[1;32m~\\AppData\\Local\\Temp/ipykernel_4324/3924074551.py\u001b[0m in \u001b[0;36m<module>\u001b[1;34m\u001b[0m\n\u001b[0;32m      1\u001b[0m \u001b[0ms1\u001b[0m \u001b[1;33m=\u001b[0m \u001b[1;33m{\u001b[0m\u001b[1;34m\"Phy\"\u001b[0m\u001b[1;33m,\u001b[0m\u001b[1;34m\"Mumbai\"\u001b[0m\u001b[1;33m,\u001b[0m\u001b[1;34m\"Delhi\"\u001b[0m\u001b[1;33m,\u001b[0m\u001b[1;34m\"Pune\"\u001b[0m\u001b[1;33m}\u001b[0m\u001b[1;33m\u001b[0m\u001b[1;33m\u001b[0m\u001b[0m\n\u001b[1;32m----> 2\u001b[1;33m \u001b[0ms1\u001b[0m\u001b[1;33m.\u001b[0m\u001b[0mpop\u001b[0m\u001b[1;33m(\u001b[0m\u001b[1;36m0\u001b[0m\u001b[1;33m)\u001b[0m\u001b[1;33m\u001b[0m\u001b[1;33m\u001b[0m\u001b[0m\n\u001b[0m\u001b[0;32m      3\u001b[0m \u001b[0ms1\u001b[0m\u001b[1;33m\u001b[0m\u001b[1;33m\u001b[0m\u001b[0m\n",
            "\u001b[1;31mTypeError\u001b[0m: set.pop() takes no arguments (1 given)"
          ]
        }
      ],
      "source": [
        "s1 = {\"Phy\",\"Mumbai\",\"Delhi\",\"Pune\"}\n",
        "s1.pop(0)\n",
        "s1"
      ]
    },
    {
      "cell_type": "code",
      "execution_count": null,
      "id": "bf64db5b",
      "metadata": {
        "id": "bf64db5b",
        "outputId": "d09c7287-10ff-44bd-d206-4c7637f2bca8"
      },
      "outputs": [
        {
          "name": "stdout",
          "output_type": "stream",
          "text": [
            "['Delhi', 'Phy', 'Pune', 'Mumbai']\n"
          ]
        },
        {
          "data": {
            "text/plain": [
              "{'Mumbai', 'Phy', 'Pune'}"
            ]
          },
          "execution_count": 54,
          "metadata": {},
          "output_type": "execute_result"
        }
      ],
      "source": [
        "s1 = list({\"Phy\",\"Mumbai\",\"Delhi\",\"Pune\"}) # tYPE CASTING\n",
        "print(s1)\n",
        "s1.pop(0)\n",
        "s2 = set(s1) # TYPE CASTING\n",
        "s2"
      ]
    },
    {
      "cell_type": "markdown",
      "id": "46332ade",
      "metadata": {
        "id": "46332ade"
      },
      "source": [
        "#### 4) clear"
      ]
    },
    {
      "cell_type": "code",
      "execution_count": null,
      "id": "0d4cf3d2",
      "metadata": {
        "id": "0d4cf3d2"
      },
      "outputs": [],
      "source": [
        "used to remove all items from set"
      ]
    },
    {
      "cell_type": "code",
      "execution_count": null,
      "id": "7f6ddbdc",
      "metadata": {
        "id": "7f6ddbdc",
        "outputId": "461e0f35-6b19-4246-b02e-5ecb68e11697"
      },
      "outputs": [
        {
          "data": {
            "text/plain": [
              "set()"
            ]
          },
          "execution_count": 56,
          "metadata": {},
          "output_type": "execute_result"
        }
      ],
      "source": [
        "s1 = {\"Phy\",\"Mumbai\",\"Delhi\",\"Pune\"}\n",
        "s1.clear()\n",
        "s1 # empty set"
      ]
    },
    {
      "cell_type": "code",
      "execution_count": null,
      "id": "5e8b20d2",
      "metadata": {
        "id": "5e8b20d2",
        "outputId": "29077a3a-fd96-4843-99bc-5b36ad3408f0"
      },
      "outputs": [
        {
          "data": {
            "text/plain": [
              "{'Mumbai', 'Phy', 'Pune'}"
            ]
          },
          "execution_count": 55,
          "metadata": {},
          "output_type": "execute_result"
        }
      ],
      "source": [
        "s1 = {\"Phy\",\"Mumbai\",\"Delhi\",\"Pune\"}\n",
        "s1.pop() # one randdomly deleted\n",
        "s1"
      ]
    },
    {
      "cell_type": "markdown",
      "id": "8772161b",
      "metadata": {
        "id": "8772161b"
      },
      "source": [
        "#### 5) del"
      ]
    },
    {
      "cell_type": "code",
      "execution_count": null,
      "id": "f7bf89a4",
      "metadata": {
        "id": "f7bf89a4",
        "outputId": "04b09638-e834-4233-e719-610f0f8ad4f5"
      },
      "outputs": [
        {
          "ename": "NameError",
          "evalue": "name 's1' is not defined",
          "output_type": "error",
          "traceback": [
            "\u001b[1;31m---------------------------------------------------------------------------\u001b[0m",
            "\u001b[1;31mNameError\u001b[0m                                 Traceback (most recent call last)",
            "\u001b[1;32m~\\AppData\\Local\\Temp/ipykernel_4324/970306206.py\u001b[0m in \u001b[0;36m<module>\u001b[1;34m\u001b[0m\n\u001b[0;32m      1\u001b[0m \u001b[0ms1\u001b[0m \u001b[1;33m=\u001b[0m \u001b[1;33m{\u001b[0m\u001b[1;34m\"Phy\"\u001b[0m\u001b[1;33m,\u001b[0m\u001b[1;34m\"Mumbai\"\u001b[0m\u001b[1;33m,\u001b[0m\u001b[1;34m\"Delhi\"\u001b[0m\u001b[1;33m,\u001b[0m\u001b[1;34m\"Pune\"\u001b[0m\u001b[1;33m}\u001b[0m\u001b[1;33m\u001b[0m\u001b[1;33m\u001b[0m\u001b[0m\n\u001b[0;32m      2\u001b[0m \u001b[1;32mdel\u001b[0m \u001b[0ms1\u001b[0m\u001b[1;33m\u001b[0m\u001b[1;33m\u001b[0m\u001b[0m\n\u001b[1;32m----> 3\u001b[1;33m \u001b[0ms1\u001b[0m\u001b[1;33m\u001b[0m\u001b[1;33m\u001b[0m\u001b[0m\n\u001b[0m",
            "\u001b[1;31mNameError\u001b[0m: name 's1' is not defined"
          ]
        }
      ],
      "source": [
        "s1 = {\"Phy\",\"Mumbai\",\"Delhi\",\"Pune\"}\n",
        "del s1\n",
        "s1"
      ]
    },
    {
      "cell_type": "code",
      "execution_count": null,
      "id": "db4df5c5",
      "metadata": {
        "id": "db4df5c5",
        "outputId": "1bb45183-42d2-4cd0-dfaf-de7ec4484af1"
      },
      "outputs": [
        {
          "ename": "NameError",
          "evalue": "name 'lst1' is not defined",
          "output_type": "error",
          "traceback": [
            "\u001b[1;31m---------------------------------------------------------------------------\u001b[0m",
            "\u001b[1;31mNameError\u001b[0m                                 Traceback (most recent call last)",
            "\u001b[1;32m~\\AppData\\Local\\Temp/ipykernel_4324/2296162119.py\u001b[0m in \u001b[0;36m<module>\u001b[1;34m\u001b[0m\n\u001b[0;32m      1\u001b[0m \u001b[0mlst1\u001b[0m \u001b[1;33m=\u001b[0m \u001b[1;33m[\u001b[0m\u001b[1;34m\"Phy\"\u001b[0m\u001b[1;33m,\u001b[0m\u001b[1;34m\"Mumbai\"\u001b[0m\u001b[1;33m,\u001b[0m\u001b[1;34m\"Delhi\"\u001b[0m\u001b[1;33m,\u001b[0m\u001b[1;34m\"Pune\"\u001b[0m\u001b[1;33m]\u001b[0m\u001b[1;33m\u001b[0m\u001b[1;33m\u001b[0m\u001b[0m\n\u001b[0;32m      2\u001b[0m \u001b[1;32mdel\u001b[0m \u001b[0mlst1\u001b[0m\u001b[1;33m\u001b[0m\u001b[1;33m\u001b[0m\u001b[0m\n\u001b[1;32m----> 3\u001b[1;33m \u001b[0mlst1\u001b[0m\u001b[1;33m\u001b[0m\u001b[1;33m\u001b[0m\u001b[0m\n\u001b[0m",
            "\u001b[1;31mNameError\u001b[0m: name 'lst1' is not defined"
          ]
        }
      ],
      "source": [
        "lst1 = [\"Phy\",\"Mumbai\",\"Delhi\",\"Pune\"]\n",
        "del lst1\n",
        "lst1"
      ]
    },
    {
      "cell_type": "code",
      "execution_count": null,
      "id": "81d227ec",
      "metadata": {
        "id": "81d227ec",
        "outputId": "8bfe6187-3a0b-4cfa-fc40-501d311b59ee"
      },
      "outputs": [
        {
          "data": {
            "text/plain": [
              "['Phy', 'Mumbai', 'Pune']"
            ]
          },
          "execution_count": 59,
          "metadata": {},
          "output_type": "execute_result"
        }
      ],
      "source": [
        "lst1 = [\"Phy\",\"Mumbai\",\"Delhi\",\"Pune\"]\n",
        "del lst1[2]\n",
        "lst1"
      ]
    },
    {
      "cell_type": "code",
      "execution_count": null,
      "id": "abf7afe5",
      "metadata": {
        "id": "abf7afe5",
        "outputId": "92759757-869e-4fa6-be7f-9d5001067b79"
      },
      "outputs": [
        {
          "ename": "TypeError",
          "evalue": "'set' object doesn't support item deletion",
          "output_type": "error",
          "traceback": [
            "\u001b[1;31m---------------------------------------------------------------------------\u001b[0m",
            "\u001b[1;31mTypeError\u001b[0m                                 Traceback (most recent call last)",
            "\u001b[1;32m~\\AppData\\Local\\Temp/ipykernel_4324/2023170446.py\u001b[0m in \u001b[0;36m<module>\u001b[1;34m\u001b[0m\n\u001b[0;32m      1\u001b[0m \u001b[0ms1\u001b[0m \u001b[1;33m=\u001b[0m \u001b[1;33m{\u001b[0m\u001b[1;34m\"Phy\"\u001b[0m\u001b[1;33m,\u001b[0m\u001b[1;34m\"Mumbai\"\u001b[0m\u001b[1;33m,\u001b[0m\u001b[1;34m\"Delhi\"\u001b[0m\u001b[1;33m,\u001b[0m\u001b[1;34m\"Pune\"\u001b[0m\u001b[1;33m}\u001b[0m\u001b[1;33m\u001b[0m\u001b[1;33m\u001b[0m\u001b[0m\n\u001b[1;32m----> 2\u001b[1;33m \u001b[1;32mdel\u001b[0m \u001b[0ms1\u001b[0m\u001b[1;33m[\u001b[0m\u001b[1;36m0\u001b[0m\u001b[1;33m]\u001b[0m\u001b[1;33m\u001b[0m\u001b[1;33m\u001b[0m\u001b[0m\n\u001b[0m\u001b[0;32m      3\u001b[0m \u001b[0ms1\u001b[0m\u001b[1;33m\u001b[0m\u001b[1;33m\u001b[0m\u001b[0m\n",
            "\u001b[1;31mTypeError\u001b[0m: 'set' object doesn't support item deletion"
          ]
        }
      ],
      "source": [
        "s1 = {\"Phy\",\"Mumbai\",\"Delhi\",\"Pune\"}\n",
        "del s1[0]\n",
        "s1"
      ]
    },
    {
      "cell_type": "markdown",
      "id": "1130d292",
      "metadata": {
        "id": "1130d292"
      },
      "source": [
        "#### Other set Function"
      ]
    },
    {
      "cell_type": "markdown",
      "id": "b6676a78",
      "metadata": {
        "id": "b6676a78"
      },
      "source": [
        "##### 1. intersection"
      ]
    },
    {
      "cell_type": "code",
      "execution_count": null,
      "id": "31b4a156",
      "metadata": {
        "id": "31b4a156"
      },
      "outputs": [],
      "source": [
        "To common items/ elements"
      ]
    },
    {
      "cell_type": "code",
      "execution_count": 2,
      "id": "a0fe7ad7",
      "metadata": {
        "id": "a0fe7ad7",
        "outputId": "0c1b54e5-214e-49f7-a189-0b8573853c1e",
        "colab": {
          "base_uri": "https://localhost:8080/"
        }
      },
      "outputs": [
        {
          "output_type": "stream",
          "name": "stdout",
          "text": [
            "{2, 3, 4, 5, 7}\n",
            "(4, 5, 6, 7, 8, 9)\n"
          ]
        }
      ],
      "source": [
        "s1 = {3,4,5,2,4,7}\n",
        "tup1 = (4,5,6,7,8,9)\n",
        "s1.intersection(tup1)\n",
        "print(s1)\n",
        "print(tup1)"
      ]
    },
    {
      "cell_type": "code",
      "execution_count": 5,
      "id": "319ebbbd",
      "metadata": {
        "id": "319ebbbd",
        "outputId": "efe287a8-12ac-433b-e478-725bb14e5667",
        "colab": {
          "base_uri": "https://localhost:8080/"
        }
      },
      "outputs": [
        {
          "output_type": "stream",
          "name": "stdout",
          "text": [
            "{2, 3, 4, 5, 7}\n",
            "(4, 5, 6, 7, 8, 9)\n",
            "Set of common elements {4, 5, 7}\n"
          ]
        }
      ],
      "source": [
        "s1 = {3,4,5,2,4,7}\n",
        "tup1 = (4,5,6,7,8,9)\n",
        "b = s1.intersection(tup1) # updating output into new variable\n",
        "print(s1)\n",
        "print(tup1)\n",
        "print(\"Set of common elements\",b)"
      ]
    },
    {
      "cell_type": "markdown",
      "id": "bcb6cc71",
      "metadata": {
        "id": "bcb6cc71"
      },
      "source": [
        "#### 2. intersection_update"
      ]
    },
    {
      "cell_type": "code",
      "execution_count": 10,
      "id": "f8e7f64c",
      "metadata": {
        "id": "f8e7f64c",
        "outputId": "729f3f85-bb4b-4dd0-e843-4304e7948059",
        "colab": {
          "base_uri": "https://localhost:8080/"
        }
      },
      "outputs": [
        {
          "output_type": "stream",
          "name": "stdout",
          "text": [
            "{4, 5, 7}\n",
            "(4, 5, 6, 7, 8, 9)\n"
          ]
        }
      ],
      "source": [
        "s1 = {3,4,5,2,4,7}\n",
        "tup1 = (4,5,6,7,8,9)\n",
        "s1.intersection_update(tup1)\n",
        "print(s1)\n",
        "print(tup1)"
      ]
    },
    {
      "cell_type": "code",
      "execution_count": null,
      "id": "3da43eeb",
      "metadata": {
        "id": "3da43eeb",
        "outputId": "23489d78-41ff-489b-8678-29c4a1248544"
      },
      "outputs": [
        {
          "ename": "AttributeError",
          "evalue": "'tuple' object has no attribute 'intersection_update'",
          "output_type": "error",
          "traceback": [
            "\u001b[1;31m---------------------------------------------------------------------------\u001b[0m",
            "\u001b[1;31mAttributeError\u001b[0m                            Traceback (most recent call last)",
            "\u001b[1;32m~\\AppData\\Local\\Temp/ipykernel_4324/2294320400.py\u001b[0m in \u001b[0;36m<module>\u001b[1;34m\u001b[0m\n\u001b[0;32m      1\u001b[0m \u001b[0ms1\u001b[0m \u001b[1;33m=\u001b[0m \u001b[1;33m{\u001b[0m\u001b[1;36m3\u001b[0m\u001b[1;33m,\u001b[0m\u001b[1;36m4\u001b[0m\u001b[1;33m,\u001b[0m\u001b[1;36m5\u001b[0m\u001b[1;33m,\u001b[0m\u001b[1;36m2\u001b[0m\u001b[1;33m,\u001b[0m\u001b[1;36m4\u001b[0m\u001b[1;33m,\u001b[0m\u001b[1;36m7\u001b[0m\u001b[1;33m}\u001b[0m\u001b[1;33m\u001b[0m\u001b[1;33m\u001b[0m\u001b[0m\n\u001b[0;32m      2\u001b[0m \u001b[0mtup1\u001b[0m \u001b[1;33m=\u001b[0m \u001b[1;33m(\u001b[0m\u001b[1;36m4\u001b[0m\u001b[1;33m,\u001b[0m\u001b[1;36m5\u001b[0m\u001b[1;33m,\u001b[0m\u001b[1;36m6\u001b[0m\u001b[1;33m,\u001b[0m\u001b[1;36m7\u001b[0m\u001b[1;33m,\u001b[0m\u001b[1;36m8\u001b[0m\u001b[1;33m,\u001b[0m\u001b[1;36m9\u001b[0m\u001b[1;33m)\u001b[0m\u001b[1;33m\u001b[0m\u001b[1;33m\u001b[0m\u001b[0m\n\u001b[1;32m----> 3\u001b[1;33m \u001b[0mtup1\u001b[0m\u001b[1;33m.\u001b[0m\u001b[0mintersection_update\u001b[0m\u001b[1;33m(\u001b[0m\u001b[0ms1\u001b[0m\u001b[1;33m)\u001b[0m \u001b[1;31m# index and count\u001b[0m\u001b[1;33m\u001b[0m\u001b[1;33m\u001b[0m\u001b[0m\n\u001b[0m\u001b[0;32m      4\u001b[0m \u001b[0mprint\u001b[0m\u001b[1;33m(\u001b[0m\u001b[0ms1\u001b[0m\u001b[1;33m)\u001b[0m\u001b[1;33m\u001b[0m\u001b[1;33m\u001b[0m\u001b[0m\n\u001b[0;32m      5\u001b[0m \u001b[0mprint\u001b[0m\u001b[1;33m(\u001b[0m\u001b[0mtup1\u001b[0m\u001b[1;33m)\u001b[0m\u001b[1;33m\u001b[0m\u001b[1;33m\u001b[0m\u001b[0m\n",
            "\u001b[1;31mAttributeError\u001b[0m: 'tuple' object has no attribute 'intersection_update'"
          ]
        }
      ],
      "source": [
        "s1 = {3,4,5,2,4,7}\n",
        "tup1 = (4,5,6,7,8,9)\n",
        "tup1.intersection_update(s1) # index and count\n",
        "print(s1)\n",
        "print(tup1)"
      ]
    },
    {
      "cell_type": "markdown",
      "id": "0e95db02",
      "metadata": {
        "id": "0e95db02"
      },
      "source": [
        "#### 3) difference"
      ]
    },
    {
      "cell_type": "markdown",
      "id": "2066aa25",
      "metadata": {
        "id": "2066aa25"
      },
      "source": [
        "Unique value from set"
      ]
    },
    {
      "cell_type": "code",
      "execution_count": null,
      "id": "96487c75",
      "metadata": {
        "id": "96487c75",
        "outputId": "93534a6e-5202-4712-e1f7-79c77135a44b"
      },
      "outputs": [
        {
          "data": {
            "text/plain": [
              "{2, 3}"
            ]
          },
          "execution_count": 66,
          "metadata": {},
          "output_type": "execute_result"
        }
      ],
      "source": [
        "s1 = {3,4,5,2,4,7}\n",
        "tup1 = (4,5,6,7,8,9)\n",
        "s1.difference(tup1) # unique value from s1"
      ]
    },
    {
      "cell_type": "code",
      "execution_count": null,
      "id": "4fa7e485",
      "metadata": {
        "id": "4fa7e485",
        "outputId": "1143c458-a896-4cf2-a3d1-6c29b8ca57a9"
      },
      "outputs": [
        {
          "data": {
            "text/plain": [
              "{6, 8, 9}"
            ]
          },
          "execution_count": 67,
          "metadata": {},
          "output_type": "execute_result"
        }
      ],
      "source": [
        "s1 = {3,4,5,2,4,7}\n",
        "s2 = {4,5,6,7,8,9}\n",
        "s2.difference(s1) # unique value from s2"
      ]
    },
    {
      "cell_type": "code",
      "execution_count": null,
      "id": "aa9594d7",
      "metadata": {
        "id": "aa9594d7",
        "outputId": "9b104ae0-ccb3-4b5b-a62a-6d0f1c367d57"
      },
      "outputs": [
        {
          "name": "stdout",
          "output_type": "stream",
          "text": [
            "{2, 3, 4, 5, 7}\n",
            "{4, 5, 6, 7, 8, 9}\n"
          ]
        }
      ],
      "source": [
        "s1 = {3,4,5,2,4,7}\n",
        "s2 = {4,5,6,7,8,9}\n",
        "s2.difference(s1) # unique value from s2\n",
        "print(s1)\n",
        "print(s2)"
      ]
    },
    {
      "cell_type": "markdown",
      "id": "ab74e301",
      "metadata": {
        "id": "ab74e301"
      },
      "source": [
        "### 5. differnce_update"
      ]
    },
    {
      "cell_type": "code",
      "execution_count": null,
      "id": "2f384254",
      "metadata": {
        "id": "2f384254",
        "outputId": "f1aa9e19-b392-4088-f4fd-68730c50cb52"
      },
      "outputs": [
        {
          "name": "stdout",
          "output_type": "stream",
          "text": [
            "{2, 3, 4, 5, 7}\n",
            "{6, 8, 9}\n"
          ]
        }
      ],
      "source": [
        "s1 = {3,4,5,2,4,7}\n",
        "s2 = {4,5,6,7,8,9}\n",
        "s2.difference_update(s1) # unique value from s2 >>> s2 updated\n",
        "print(s1)\n",
        "print(s2)"
      ]
    },
    {
      "cell_type": "code",
      "execution_count": null,
      "id": "b1223833",
      "metadata": {
        "id": "b1223833",
        "outputId": "0af90cba-40f6-46e5-c3b5-e203ae70a454"
      },
      "outputs": [
        {
          "data": {
            "text/plain": [
              "['Mumbai', 'Chennai']"
            ]
          },
          "execution_count": 71,
          "metadata": {},
          "output_type": "execute_result"
        }
      ],
      "source": [
        "var1 = [\"Pune\",\"Mumbai\",\"Delhi\",\"Chennai\"]\n",
        "var2 = [\"Pune\",\"Delhi\",\"Bangalore\",\"Hydrabad\",\"Kolkata\"]\n",
        "# var1.differce(var2) # Mumbai\" ,Chennai\n",
        "result = []\n",
        "for city in var1:\n",
        "    if city not in var2:\n",
        "        result.append(city)\n",
        "result"
      ]
    },
    {
      "cell_type": "code",
      "execution_count": null,
      "id": "85c75359",
      "metadata": {
        "id": "85c75359",
        "outputId": "9fd64e48-9d71-4172-dc46-cf65f8c910e6"
      },
      "outputs": [
        {
          "data": {
            "text/plain": [
              "['Mumbai', 'Chennai']"
            ]
          },
          "execution_count": 72,
          "metadata": {},
          "output_type": "execute_result"
        }
      ],
      "source": [
        "var1 = [\"Pune\",\"Mumbai\",\"Delhi\",\"Chennai\"]\n",
        "var2 = [\"Pune\",\"Delhi\",\"Bangalore\",\"Hydrabad\",\"Kolkata\"]\n",
        "result = [city for city in var1 if city not in var2]\n",
        "result"
      ]
    },
    {
      "cell_type": "code",
      "execution_count": null,
      "id": "db933440",
      "metadata": {
        "id": "db933440",
        "outputId": "6d6e66c7-b7f7-4251-fb93-7572933f8b9b"
      },
      "outputs": [
        {
          "data": {
            "text/plain": [
              "{'Chennai', 'Mumbai'}"
            ]
          },
          "execution_count": 73,
          "metadata": {},
          "output_type": "execute_result"
        }
      ],
      "source": [
        "var1 = [\"Pune\",\"Mumbai\",\"Delhi\",\"Chennai\"]\n",
        "var2 = [\"Pune\",\"Delhi\",\"Bangalore\",\"Hydrabad\",\"Kolkata\"]\n",
        "set(var1).difference(var2)"
      ]
    },
    {
      "cell_type": "markdown",
      "id": "ae919c3f",
      "metadata": {
        "id": "ae919c3f"
      },
      "source": [
        "#### 5) symmetric_difference()"
      ]
    },
    {
      "cell_type": "code",
      "execution_count": null,
      "id": "3b6d0480",
      "metadata": {
        "id": "3b6d0480",
        "outputId": "2f8e98b8-27b4-4c0a-e1e7-6b22f47a6709"
      },
      "outputs": [
        {
          "data": {
            "text/plain": [
              "{'Bangalore', 'Chennai', 'Hydrabad', 'Kolkata', 'Mumbai'}"
            ]
          },
          "execution_count": 74,
          "metadata": {},
          "output_type": "execute_result"
        }
      ],
      "source": [
        "var1 = [\"Pune\",\"Mumbai\",\"Delhi\",\"Chennai\"]\n",
        "var2 = [\"Pune\",\"Delhi\",\"Bangalore\",\"Hydrabad\",\"Kolkata\"]\n",
        "set(var1).symmetric_difference(var2) # unique values from both set or remove common elements"
      ]
    },
    {
      "cell_type": "code",
      "execution_count": null,
      "id": "7615ebd4",
      "metadata": {
        "id": "7615ebd4",
        "outputId": "97f877a1-8403-4dff-ebb5-7ab0c6499d42"
      },
      "outputs": [
        {
          "name": "stdout",
          "output_type": "stream",
          "text": [
            "{'Chennai', 'Bangalore', 'Hydrabad', 'Kolkata', 'Mumbai'}\n",
            "['Pune', 'Mumbai', 'Delhi', 'Chennai']\n",
            "['Pune', 'Delhi', 'Bangalore', 'Hydrabad', 'Kolkata']\n"
          ]
        }
      ],
      "source": [
        "var1 = [\"Pune\",\"Mumbai\",\"Delhi\",\"Chennai\"]\n",
        "var2 = [\"Pune\",\"Delhi\",\"Bangalore\",\"Hydrabad\",\"Kolkata\"]\n",
        "a = set(var1).symmetric_difference(var2) # unique values from both set or remove common elements\n",
        "print(a)\n",
        "print(var1)\n",
        "print(var2)"
      ]
    },
    {
      "cell_type": "markdown",
      "id": "ebead6e1",
      "metadata": {
        "id": "ebead6e1"
      },
      "source": [
        "#### 6) symmetric_difference_update()"
      ]
    },
    {
      "cell_type": "code",
      "execution_count": null,
      "id": "b844110a",
      "metadata": {
        "id": "b844110a",
        "outputId": "45d0aa56-6e55-4789-9e40-732e1c42b9c2"
      },
      "outputs": [
        {
          "name": "stdout",
          "output_type": "stream",
          "text": [
            "{'Hydrabad', 'Kolkata', 'Chennai', 'Bangalore', 'Mumbai'}\n",
            "['Pune', 'Delhi', 'Bangalore', 'Hydrabad', 'Kolkata']\n"
          ]
        }
      ],
      "source": [
        "var1 = {\"Pune\",\"Mumbai\",\"Delhi\",\"Chennai\"}\n",
        "var2 = [\"Pune\",\"Delhi\",\"Bangalore\",\"Hydrabad\",\"Kolkata\"]\n",
        "var1.symmetric_difference_update(var2)\n",
        "print(var1)\n",
        "print(var2)"
      ]
    },
    {
      "cell_type": "code",
      "execution_count": null,
      "id": "c4928827",
      "metadata": {
        "id": "c4928827"
      },
      "outputs": [],
      "source": [
        ". intersection >>> common elements\n",
        ". union >>>  unique elements\n",
        ". difference >> unique elements other than common"
      ]
    },
    {
      "cell_type": "markdown",
      "id": "9caae35e",
      "metadata": {
        "id": "9caae35e"
      },
      "source": [
        "#### 7. issubset()"
      ]
    },
    {
      "cell_type": "code",
      "execution_count": null,
      "id": "a570043f",
      "metadata": {
        "id": "a570043f",
        "outputId": "e4088f75-4ea2-4d35-de1c-a6a43b073a82"
      },
      "outputs": [
        {
          "data": {
            "text/plain": [
              "False"
            ]
          },
          "execution_count": 77,
          "metadata": {},
          "output_type": "execute_result"
        }
      ],
      "source": [
        "s1 = {1,2,3,4,5,6}\n",
        "s2 = {3,4,5}\n",
        "s1.issubset(s2) # all set1 items present in set2 then it becomes True else False"
      ]
    },
    {
      "cell_type": "code",
      "execution_count": null,
      "id": "5dfab20c",
      "metadata": {
        "id": "5dfab20c",
        "outputId": "d9c92d04-b99d-4ce5-9754-22b8f084fbc2"
      },
      "outputs": [
        {
          "data": {
            "text/plain": [
              "True"
            ]
          },
          "execution_count": 78,
          "metadata": {},
          "output_type": "execute_result"
        }
      ],
      "source": [
        "s1 = {1,2,3,4,5,6}\n",
        "s2 = {3,4,5}\n",
        "s2.issubset(s1) # all set1 items present in set2 then it becomes True else False"
      ]
    },
    {
      "cell_type": "markdown",
      "id": "170cd519",
      "metadata": {
        "id": "170cd519"
      },
      "source": [
        "#### 8) issuperset()"
      ]
    },
    {
      "cell_type": "code",
      "execution_count": null,
      "id": "1178e0cd",
      "metadata": {
        "id": "1178e0cd",
        "outputId": "5fcf545c-4975-4107-c6db-689e8d242a41"
      },
      "outputs": [
        {
          "data": {
            "text/plain": [
              "True"
            ]
          },
          "execution_count": 79,
          "metadata": {},
          "output_type": "execute_result"
        }
      ],
      "source": [
        "s1 = {1,2,3,4,5,6}\n",
        "s2 = {3,4,5}\n",
        "s1.issuperset(s2)\n",
        "#Return True only when if all items of set2 is present in set1 else False"
      ]
    },
    {
      "cell_type": "code",
      "execution_count": null,
      "id": "bfed82f6",
      "metadata": {
        "id": "bfed82f6",
        "outputId": "0be01938-fc06-4521-e0c3-3302812e64d2"
      },
      "outputs": [
        {
          "data": {
            "text/plain": [
              "False"
            ]
          },
          "execution_count": 80,
          "metadata": {},
          "output_type": "execute_result"
        }
      ],
      "source": [
        "s1 = {1,2,3,4,5,6}\n",
        "s2 = {3,4,5}\n",
        "s2.issuperset(s1)\n",
        "#Return True only when if all items of set2 is present in set1 else False"
      ]
    },
    {
      "cell_type": "markdown",
      "id": "72c90406",
      "metadata": {
        "id": "72c90406"
      },
      "source": [
        "#### 9) isdisjoint()"
      ]
    },
    {
      "cell_type": "code",
      "execution_count": null,
      "id": "6768f672",
      "metadata": {
        "id": "6768f672"
      },
      "outputs": [],
      "source": [
        "if there nothing is common in both sets then it return True"
      ]
    },
    {
      "cell_type": "code",
      "execution_count": null,
      "id": "8c3eeae0",
      "metadata": {
        "id": "8c3eeae0",
        "outputId": "69cec8ba-af63-4562-aec6-4adf6ba8ddce"
      },
      "outputs": [
        {
          "data": {
            "text/plain": [
              "{4, 5, 6}"
            ]
          },
          "execution_count": 81,
          "metadata": {},
          "output_type": "execute_result"
        }
      ],
      "source": [
        "s1 = {2,3,4,5,6}\n",
        "s2 = {4,5,6,7,8}\n",
        "s1.intersection(s2)"
      ]
    },
    {
      "cell_type": "code",
      "execution_count": null,
      "id": "8250f6df",
      "metadata": {
        "id": "8250f6df",
        "outputId": "1faa989b-a70b-43d5-f1d4-ac1cc73c013b"
      },
      "outputs": [
        {
          "data": {
            "text/plain": [
              "{2, 3, 7, 8}"
            ]
          },
          "execution_count": 82,
          "metadata": {},
          "output_type": "execute_result"
        }
      ],
      "source": [
        "s1 = {2,3,4,5,6}\n",
        "s2 = {4,5,6,7,8}\n",
        "s1.symmetric_difference(s2)"
      ]
    },
    {
      "cell_type": "code",
      "execution_count": null,
      "id": "2068ca91",
      "metadata": {
        "id": "2068ca91",
        "outputId": "fb20e4a6-2708-4adf-e03c-233172955671"
      },
      "outputs": [
        {
          "data": {
            "text/plain": [
              "False"
            ]
          },
          "execution_count": 83,
          "metadata": {},
          "output_type": "execute_result"
        }
      ],
      "source": [
        "s1 = {2,3,4,5,6}\n",
        "s2 = {4,5,6,7,8}\n",
        "s1.isdisjoint(s2)"
      ]
    },
    {
      "cell_type": "code",
      "execution_count": null,
      "id": "b9bf1b42",
      "metadata": {
        "id": "b9bf1b42",
        "outputId": "353ec71f-7eed-4742-e7c3-98004fdb47cb"
      },
      "outputs": [
        {
          "data": {
            "text/plain": [
              "True"
            ]
          },
          "execution_count": 84,
          "metadata": {},
          "output_type": "execute_result"
        }
      ],
      "source": [
        "s1 = {2,3,4,5,6}\n",
        "s2 = {7,8}\n",
        "s1.isdisjoint(s2)"
      ]
    },
    {
      "cell_type": "markdown",
      "id": "16633a6a",
      "metadata": {
        "id": "16633a6a"
      },
      "source": [
        "#### Copy"
      ]
    },
    {
      "cell_type": "code",
      "execution_count": null,
      "id": "a9fabb14",
      "metadata": {
        "id": "a9fabb14",
        "outputId": "46f785d3-213b-4b86-bfd6-fd423a5440ad"
      },
      "outputs": [
        {
          "name": "stdout",
          "output_type": "stream",
          "text": [
            "{2, 3, 4, 5, 6}\n",
            "{2, 3, 4, 5, 6}\n"
          ]
        }
      ],
      "source": [
        "s1 = {2,3,4,5,6}\n",
        "s2 = s1\n",
        "print(s1)\n",
        "print(s2)"
      ]
    },
    {
      "cell_type": "code",
      "execution_count": null,
      "id": "18e923f2",
      "metadata": {
        "id": "18e923f2",
        "outputId": "bcbf4e61-f620-43bb-f0ea-e5cbf221469e"
      },
      "outputs": [
        {
          "name": "stdout",
          "output_type": "stream",
          "text": [
            "{2, 3, 4, 5, 6, 'Hello'}\n",
            "{2, 3, 4, 5, 6, 'Hello'}\n"
          ]
        }
      ],
      "source": [
        "s1 = {2,3,4,5,6}\n",
        "s2 = s1\n",
        "s1.add(\"Hello\")\n",
        "print(s1)\n",
        "print(s2)"
      ]
    },
    {
      "cell_type": "code",
      "execution_count": null,
      "id": "c8228a10",
      "metadata": {
        "id": "c8228a10",
        "outputId": "83a35ff5-920c-4260-8304-e1be0933faaa"
      },
      "outputs": [
        {
          "name": "stdout",
          "output_type": "stream",
          "text": [
            "{2, 3, 4, 5, 6, 'Hello'}\n",
            "{2, 3, 4, 5, 6}\n"
          ]
        }
      ],
      "source": [
        "s1 = {2,3,4,5,6}\n",
        "s2 = s1.copy()\n",
        "s1.add(\"Hello\")\n",
        "print(s1)\n",
        "print(s2)"
      ]
    },
    {
      "cell_type": "code",
      "execution_count": null,
      "id": "efe10ed8",
      "metadata": {
        "id": "efe10ed8",
        "outputId": "f06570f5-ef96-41d9-a1a6-3f45d12d57b7"
      },
      "outputs": [
        {
          "ename": "TypeError",
          "evalue": "unhashable type: 'list'",
          "output_type": "error",
          "traceback": [
            "\u001b[1;31m---------------------------------------------------------------------------\u001b[0m",
            "\u001b[1;31mTypeError\u001b[0m                                 Traceback (most recent call last)",
            "\u001b[1;32m~\\AppData\\Local\\Temp/ipykernel_4324/2289627160.py\u001b[0m in \u001b[0;36m<module>\u001b[1;34m\u001b[0m\n\u001b[0;32m      1\u001b[0m \u001b[0ms1\u001b[0m \u001b[1;33m=\u001b[0m \u001b[1;33m{\u001b[0m\u001b[1;36m2\u001b[0m\u001b[1;33m,\u001b[0m\u001b[1;36m3\u001b[0m\u001b[1;33m,\u001b[0m\u001b[1;36m4\u001b[0m\u001b[1;33m,\u001b[0m\u001b[1;36m5\u001b[0m\u001b[1;33m,\u001b[0m\u001b[1;36m6\u001b[0m\u001b[1;33m}\u001b[0m\u001b[1;33m\u001b[0m\u001b[1;33m\u001b[0m\u001b[0m\n\u001b[0;32m      2\u001b[0m \u001b[0ms2\u001b[0m \u001b[1;33m=\u001b[0m \u001b[0ms1\u001b[0m\u001b[1;33m.\u001b[0m\u001b[0mcopy\u001b[0m\u001b[1;33m(\u001b[0m\u001b[1;33m)\u001b[0m\u001b[1;33m\u001b[0m\u001b[1;33m\u001b[0m\u001b[0m\n\u001b[1;32m----> 3\u001b[1;33m \u001b[0ms1\u001b[0m\u001b[1;33m.\u001b[0m\u001b[0madd\u001b[0m\u001b[1;33m(\u001b[0m\u001b[1;33m[\u001b[0m\u001b[1;36m3\u001b[0m\u001b[1;33m,\u001b[0m\u001b[1;36m4\u001b[0m\u001b[1;33m,\u001b[0m\u001b[1;36m5\u001b[0m\u001b[1;33m,\u001b[0m\u001b[1;36m6\u001b[0m\u001b[1;33m]\u001b[0m\u001b[1;33m)\u001b[0m \u001b[1;31m# only immutable allowed\u001b[0m\u001b[1;33m\u001b[0m\u001b[1;33m\u001b[0m\u001b[0m\n\u001b[0m\u001b[0;32m      4\u001b[0m \u001b[0mprint\u001b[0m\u001b[1;33m(\u001b[0m\u001b[0ms1\u001b[0m\u001b[1;33m)\u001b[0m\u001b[1;33m\u001b[0m\u001b[1;33m\u001b[0m\u001b[0m\n\u001b[0;32m      5\u001b[0m \u001b[0mprint\u001b[0m\u001b[1;33m(\u001b[0m\u001b[0ms2\u001b[0m\u001b[1;33m)\u001b[0m\u001b[1;33m\u001b[0m\u001b[1;33m\u001b[0m\u001b[0m\n",
            "\u001b[1;31mTypeError\u001b[0m: unhashable type: 'list'"
          ]
        }
      ],
      "source": [
        "s1 = {2,3,4,5,6}\n",
        "s2 = s1.copy()\n",
        "s1.add([3,4,5,6]) # only immutable allowed\n",
        "print(s1)\n",
        "print(s2)"
      ]
    },
    {
      "cell_type": "code",
      "execution_count": null,
      "id": "9e7563d1",
      "metadata": {
        "id": "9e7563d1",
        "outputId": "36aa81bd-ab99-4f42-e88a-e0ccc513a876"
      },
      "outputs": [
        {
          "data": {
            "text/plain": [
              "[2, 3, 4, 5, 6, 5, 10]"
            ]
          },
          "execution_count": 90,
          "metadata": {},
          "output_type": "execute_result"
        }
      ],
      "source": [
        "lst = [[2,3],[4,5,6],5,10] # [2,3,4,5,6,5,10]\n",
        "new_lst = []\n",
        "for i in lst:\n",
        "    if type(i) == list:\n",
        "        new_lst.extend(i)\n",
        "    else:\n",
        "        new_lst.append(i)\n",
        "new_lst"
      ]
    },
    {
      "cell_type": "code",
      "execution_count": null,
      "id": "a9deff56",
      "metadata": {
        "id": "a9deff56",
        "outputId": "4a2cc8aa-3042-4e3c-c99b-8dbb0e54b034"
      },
      "outputs": [
        {
          "data": {
            "text/plain": [
              "[2, 3, 4, 5, 6, 5, 10]"
            ]
          },
          "execution_count": 92,
          "metadata": {},
          "output_type": "execute_result"
        }
      ],
      "source": [
        "lst = [[2,3],[4,5,6],5,10] # [2,3,4,5,6,5,10]\n",
        "new_lst = []\n",
        "for i in lst:\n",
        "    if type(i) == list:\n",
        "        for j in i:\n",
        "            new_lst.append(j)\n",
        "    else:\n",
        "        new_lst.append(i)\n",
        "new_lst"
      ]
    },
    {
      "cell_type": "code",
      "execution_count": null,
      "id": "57d91fa2",
      "metadata": {
        "id": "57d91fa2"
      },
      "outputs": [],
      "source": []
    }
  ],
  "metadata": {
    "kernelspec": {
      "display_name": "Python 3 (ipykernel)",
      "language": "python",
      "name": "python3"
    },
    "language_info": {
      "codemirror_mode": {
        "name": "ipython",
        "version": 3
      },
      "file_extension": ".py",
      "mimetype": "text/x-python",
      "name": "python",
      "nbconvert_exporter": "python",
      "pygments_lexer": "ipython3",
      "version": "3.9.7"
    },
    "colab": {
      "provenance": [],
      "include_colab_link": true
    }
  },
  "nbformat": 4,
  "nbformat_minor": 5
}